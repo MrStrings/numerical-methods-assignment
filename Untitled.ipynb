{
 "cells": [
  {
   "cell_type": "code",
   "execution_count": 2,
   "metadata": {
    "collapsed": false
   },
   "outputs": [
    {
     "name": "stdout",
     "output_type": "stream",
     "text": [
      "Using matplotlib backend: MacOSX\n",
      "Populating the interactive namespace from numpy and matplotlib\n"
     ]
    }
   ],
   "source": [
    "%pylab\n",
    "%matplotlib inline"
   ]
  },
  {
   "cell_type": "code",
   "execution_count": 3,
   "metadata": {
    "collapsed": true
   },
   "outputs": [],
   "source": [
    "def linearSolve(a, b):\n",
    "    '''\n",
    "        Resolve um sistema linear utilizando o metodo de\n",
    "        diagonalizacao da matriz (fatoracao de Gauss) seguido da\n",
    "        resolucao do sistema triangular superior.\n",
    "        \n",
    "        IMPORTANTE (1): Idealmente, trabalhe com floats (coloca um '.' dps do numero inteiro.)\n",
    "        IMPORTANTE(2): a e b sao arrays, nao listas.\n",
    "    '''\n",
    "    \n",
    "    # Diagonaliza a matriz a\n",
    "    for i in range(a.shape[0]-1):\n",
    "        max = i+ np.argmax(np.absolute(a[i:, i]))\n",
    "        \n",
    "        a[[i,max]] = a[[max,i]] # Troca linhas da array (magic!)\n",
    "        b[[i,max]] = b[[max,i]]\n",
    "\n",
    "        for j in range(i+1, a.shape[0]):\n",
    "            m = a[j,i]/(float)(a[i,i])\n",
    "            a[j] = a[j] - (m*a[i]) # Usar -= da um warning (nao sei o porque)\n",
    "            b[j] = b[j] - (m*b[i])\n",
    "      \n",
    "    x = np.empty(b.shape)\n",
    "    for i in np.arange(a.shape[0]-1, -1, -1):\n",
    "        x[i] = b[i]\n",
    "        for j in np.arange(a.shape[0]-1, i, -1):\n",
    "            x[i] -= (a[i, j] * x[j])\n",
    "        x[i] /= (float)(a[i,i])\n",
    "    return x"
   ]
  },
  {
   "cell_type": "code",
   "execution_count": 4,
   "metadata": {
    "collapsed": true
   },
   "outputs": [],
   "source": [
    "def linearMMQ(x, y):\n",
    "    '''\n",
    "        Aproxima pontos dados numa funcao linear pelo metodo dos minimos quadrados.\n",
    "    '''\n",
    "    # Ajustando os coeficientes das matrizes A e B\n",
    "    somaX = np.sum(x)\n",
    "    somaQuadradoX = np.sum(np.square(x))\n",
    "    somaY = np.sum(y)\n",
    "    somaXY = np.sum(np.multiply(x, y))\n",
    "    num = len(y)\n",
    "\n",
    "    a = np.array([[somaQuadradoX, somaX],\n",
    "                  [somaX, num]])\n",
    "    b = np.array([somaXY, somaY])\n",
    "    print \"Resolvendo o sistema linear A * c = B:\"\n",
    "    print \"A =\", a\n",
    "    print \"B =\", b\n",
    "    \n",
    "    c = linearSolve(a, b)\n",
    "    \n",
    "    print \"testando solucao...\"\n",
    "    if np.allclose(np.dot(a, c), b):\n",
    "        print \"Sistema resolvido corretamente.\"\n",
    "    else:\n",
    "        print \"Resposta esperada:\", np.linalg.solve(a, b)\n",
    "    return c"
   ]
  },
  {
   "cell_type": "code",
   "execution_count": 111,
   "metadata": {
    "collapsed": false
   },
   "outputs": [
    {
     "data": {
      "image/png": "[encoded data removed]",
      "text/plain": [
       "<matplotlib.figure.Figure at 0x1067331d0>"
      ]
     },
     "metadata": {},
     "output_type": "display_data"
    }
   ],
   "source": [
    "cOnda = np.array([589, 567, 497, 388, 446, 470, 491, 500, 586, 467, 471, 480, 636])\n",
    "alpha = np.array([47.16, 48.36, 49.20, 50.16, 49.58, 49.16, 49.03, 48.13, 47.58, 51.25, 50.33, 48.55, 48.33])\n",
    "inverseSqrArr = np.array([2.9, 3.1, 4.1, 6.7, 5.0, 4.5, 4.1, 4.0, 2.9, 4.5, 4.5, 4.3, 2.5])\n",
    "\n",
    "indices = alpha.argsort()\n",
    "\n",
    "cOnda = cOnda[indices]\n",
    "alpha = alpha[indices]\n",
    "inverseSqrArr = inverseSqrArr[indices]\n",
    "\n",
    "plt.xlabel(\"angulo de desvio minimo (em graus)\")\n",
    "plt.ylabel(\"Comprimento de onda (nm)\")\n",
    "plt.plot(alpha, cOnda, 'or')\n",
    "plt.show()"
   ]
  },
  {
   "cell_type": "code",
   "execution_count": 88,
   "metadata": {
    "collapsed": false,
    "scrolled": true
   },
   "outputs": [
    {
     "data": {
      "image/png": "[encoded data removed]",
      "text/plain": [
       "<matplotlib.figure.Figure at 0x1067c1f90>"
      ]
     },
     "metadata": {},
     "output_type": "display_data"
    }
   ],
   "source": [
    "plt.ylabel (\"indice de refracao\")\n",
    "plt.xlabel (\"quadrado inverso do comprimento de onda (Tm) \")\n",
    "plt.plot(alpha, inverseSqrArr, 'or')\n",
    "plt.show()"
   ]
  },
  {
   "cell_type": "code",
   "execution_count": 89,
   "metadata": {
    "collapsed": false
   },
   "outputs": [
    {
     "name": "stdout",
     "output_type": "stream",
     "text": [
      "[ 2.9  2.9  4.   2.5  3.1  4.3  4.1  4.5  4.1  5.   6.7  4.5  4.5]\n"
     ]
    }
   ],
   "source": [
    "print inverseSqrArr"
   ]
  },
  {
   "cell_type": "code",
   "execution_count": 90,
   "metadata": {
    "collapsed": true
   },
   "outputs": [],
   "source": [
    "def grauX_MMQ(x, y, grau=4, verborragic=True):\n",
    "    '''\n",
    "        Aproxima pontos dados numa funcao polinomial de grau arbitrário pelo metodo dos minimos quadrados.\n",
    "        A precisão depende da máquina, sendo seu \"BottleNeck\" a implementacao do NumPy - que por sua vez facilitou\n",
    "        bastante a implementacao.\n",
    "    '''\n",
    "    somaPotX = []\n",
    "    for i in range(grau*2+1):\n",
    "        sum = 0 #Pode ser reduzida para somaPotX.append(np.sum(x**i)) se nao houver overflow\n",
    "        for xk in x:\n",
    "            sum += pow(xk, i)\n",
    "        somaPotX.append(sum)\n",
    "        \n",
    "    somaPotXY = []\n",
    "    for i in range(grau+1): \n",
    "        soma = 0 #Pode ser reduzida para somaPotXY.append(np.sum(np.multiply(x**i, y))) se nao houver overflow\n",
    "        for xk, yk in zip(x,y):\n",
    "            soma += (pow(xk, i)*yk)\n",
    "        somaPotXY.append(soma)\n",
    "    \n",
    "    # Ajustando os coeficientes das matrizes A e B\n",
    "    a = np.array([[somaPotX[j] for j in range (2*grau - i, grau-i-1, -1)] for i in range (grau+1)])\n",
    "         \n",
    "    b = np.array(somaPotXY[::-1]) #B eh a array somaPotXY de baixo pra cima\n",
    "    \n",
    "    if verborragic:\n",
    "        print \"Resolvendo o sistema linear A * c = B:\"\n",
    "        print \"A =\", a\n",
    "        print \"B =\", b\n",
    "    \n",
    "    c = linearSolve(a, b)\n",
    "    \n",
    "    if verborragic:\n",
    "        #testando a solucao\n",
    "        print \"testando solucao...\"\n",
    "        if np.allclose(np.dot(a, c), b):\n",
    "            print \"Sistema resolvido corretamente.\"\n",
    "        else:\n",
    "            print \"Resposta esperada:\", np.linalg.solve(a, b)\n",
    "    return c"
   ]
  },
  {
   "cell_type": "code",
   "execution_count": 91,
   "metadata": {
    "collapsed": true
   },
   "outputs": [],
   "source": [
    "def aproxGrauX(x, y, grau=4):\n",
    "    c = grauX_MMQ(x, y, grau, verborragic=False)\n",
    "    print c\n",
    "    return lambda x: np.sum([c[j]*x**(grau-j) for j in range(grau+1)])"
   ]
  },
  {
   "cell_type": "code",
   "execution_count": 94,
   "metadata": {
    "collapsed": false
   },
   "outputs": [
    {
     "name": "stdout",
     "output_type": "stream",
     "text": [
      "indices:\n",
      "[  0.67430672 -28.94707745]\n"
     ]
    },
    {
     "data": {
      "image/png": "[encoded data removed]",
      "text/plain": [
       "<matplotlib.figure.Figure at 0x106702990>"
      ]
     },
     "metadata": {},
     "output_type": "display_data"
    }
   ],
   "source": [
    "print \"indices:\"\n",
    "aprox = aproxGrauX(alpha, inverseSqrArr, grau=1)\n",
    "\n",
    "aproxY = np.vectorize(aprox)(alpha)\n",
    "\n",
    "plt.ylabel (\"indice de refracao\")\n",
    "plt.xlabel (\"quadrado inverso do comprimento de onda (Tm)\")\n",
    "plt.plot(alpha, aproxY, 'b-', alpha, inverseSqrArr, \"ro\")\n",
    "plt.show()"
   ]
  },
  {
   "cell_type": "code",
   "execution_count": 154,
   "metadata": {
    "collapsed": false
   },
   "outputs": [],
   "source": [
    "cauchy = lambda desvio : 10**9 * sqrt(0.67 * 10**-12/(sin(radians((56.3 + desvio)/2))/sin(radians(28.15)) + 28.94))"
   ]
  },
  {
   "cell_type": "code",
   "execution_count": 159,
   "metadata": {
    "collapsed": false
   },
   "outputs": [
    {
     "name": "stdout",
     "output_type": "stream",
     "text": [
      "[ 147.96106789  147.94946463  147.93435594  147.92888612  147.92806676\n",
      "  147.92288427  147.90984379  147.90632487  147.90524322  147.89499359\n",
      "  147.8794401   147.87490212  147.8505077 ]\n"
     ]
    },
    {
     "data": {
      "text/plain": [
       "<matplotlib.text.Text at 0x109508ad0>"
      ]
     },
     "execution_count": 159,
     "metadata": {},
     "output_type": "execute_result"
    },
    {
     "data": {
      "image/png": "[encoded data removed]",
      "text/plain": [
       "<matplotlib.figure.Figure at 0x109a60090>"
      ]
     },
     "metadata": {},
     "output_type": "display_data"
    }
   ],
   "source": [
    "lambda_cauchy = np.vectorize(cauchy)(alpha)\n",
    "print lambda_cauchy\n",
    "\n",
    "plt.plot (alpha, lambda_cauchy, \"b-\")\n",
    "plt.xlabel(\"angulo de desvio minimo (em graus)\")\n",
    "plt.ylabel(\"Comprimento de onda (nm)\")"
   ]
  },
  {
   "cell_type": "code",
   "execution_count": null,
   "metadata": {
    "collapsed": true
   },
   "outputs": [],
   "source": []
  }
 ],
 "metadata": {
  "kernelspec": {
   "display_name": "Python 2",
   "language": "python",
   "name": "python2"
  },
  "language_info": {
   "codemirror_mode": {
    "name": "ipython",
    "version": 2
   },
   "file_extension": ".py",
   "mimetype": "text/x-python",
   "name": "python",
   "nbconvert_exporter": "python",
   "pygments_lexer": "ipython2",
   "version": "2.7.10"
  }
 },
 "nbformat": 4,
 "nbformat_minor": 0
}
